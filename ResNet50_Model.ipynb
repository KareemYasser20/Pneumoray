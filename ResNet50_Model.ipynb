{
  "nbformat": 4,
  "nbformat_minor": 0,
  "metadata": {
    "accelerator": "GPU",
    "colab": {
      "name": "ResNet50_Model.ipynb",
      "provenance": [],
      "collapsed_sections": [],
      "machine_shape": "hm",
      "include_colab_link": true
    },
    "kernelspec": {
      "display_name": "Python 3",
      "name": "python3"
    },
    "language_info": {
      "name": "python"
    }
  },
  "cells": [
    {
      "cell_type": "markdown",
      "metadata": {
        "id": "view-in-github",
        "colab_type": "text"
      },
      "source": [
        "<a href=\"https://colab.research.google.com/github/KareemYasser20/Pneumoray/blob/main/ResNet50_Model.ipynb\" target=\"_parent\"><img src=\"https://colab.research.google.com/assets/colab-badge.svg\" alt=\"Open In Colab\"/></a>"
      ]
    },
    {
      "cell_type": "code",
      "metadata": {
        "id": "1UyZSaKyGf4b"
      },
      "source": [
        "from google.colab import drive\n",
        "drive.mount('/content/drive/')"
      ],
      "execution_count": null,
      "outputs": []
    },
    {
      "cell_type": "code",
      "metadata": {
        "id": "oitALFO6HBFM"
      },
      "source": [
        "import numpy as np \n",
        "import pandas as pd \n",
        "from os import listdir, makedirs\n",
        "from os.path import join, exists, expanduser\n",
        "from keras import applications\n",
        "from keras.preprocessing.image import ImageDataGenerator\n",
        "from keras import optimizers\n",
        "from keras.models import Sequential, Model, load_model\n",
        "from keras.layers import Dense, GlobalAveragePooling2D\n",
        "from keras.layers import Activation, Dropout, Flatten, Dense\n",
        "from keras import backend as K\n",
        "import tensorflow as tf\n",
        "from keras.utils.data_utils import Sequence\n",
        "from sklearn.metrics import classification_report,confusion_matrix\n",
        "from sklearn.metrics import confusion_matrix\n",
        "import itertools\n",
        "from tensorflow.keras.applications import ResNet50"
      ],
      "execution_count": null,
      "outputs": []
    },
    {
      "cell_type": "code",
      "metadata": {
        "id": "IOrwRg9_HFYM"
      },
      "source": [
        "img_width, img_height = 224, 224\n",
        "train_data = '/content/drive/MyDrive/MixData/train'\n",
        "test_data = '/content/drive/MyDrive/MixData/test'\n",
        "val_data = '/content/drive/MyDrive/MixData/val'"
      ],
      "execution_count": null,
      "outputs": []
    },
    {
      "cell_type": "code",
      "metadata": {
        "id": "FdnK1GDeGYe7"
      },
      "source": [
        "# Add our data-augmentation parameters to ImageDataGenerator\n",
        "from keras.applications.resnet50 import preprocess_input\n",
        "\n",
        "train_datagen = ImageDataGenerator(\n",
        "      rescale=1./255,\n",
        "      shear_range=0.2,\n",
        "      zoom_range=0.2,\n",
        "      horizontal_flip=True,\n",
        "          )\n",
        "test_datagen = ImageDataGenerator(\n",
        "        rescale=1./255,\n",
        "        shear_range=0.5,\n",
        "        zoom_range=0.1,\n",
        "        # rotation_range=0.9,\n",
        "        fill_mode='nearest',\n",
        "        # height_shift_range=0.2,\n",
        "        width_shift_range=0.2,\n",
        "        horizontal_flip=True,\n",
        ")\n",
        "\n",
        "\n",
        "val_datagen = ImageDataGenerator()\n",
        "\n",
        "train_generator = train_datagen.flow_from_directory(train_data, batch_size = 16, class_mode = 'categorical', target_size = (224, 224))\n",
        "\n",
        "validation_generator = test_datagen.flow_from_directory(val_data, batch_size = 4, class_mode = 'categorical', target_size = (224, 224))\n",
        "\n",
        "test_generator = test_datagen.flow_from_directory(test_data, batch_size = 8, class_mode = 'categorical', target_size = (224, 224))\n"
      ],
      "execution_count": null,
      "outputs": []
    },
    {
      "cell_type": "code",
      "metadata": {
        "id": "GHnV_55xGiJF"
      },
      "source": [
        "base_model = ResNet50( include_top=False, weights= \"imagenet\")"
      ],
      "execution_count": null,
      "outputs": []
    },
    {
      "cell_type": "code",
      "metadata": {
        "id": "OOEkOVxMGlKC"
      },
      "source": [
        "from tensorflow.keras.applications import ResNet50\n",
        "from tensorflow.python.keras.models import Sequential\n",
        "from tensorflow.python.keras.layers import Dense, Flatten, GlobalAveragePooling2D\n",
        "from keras import models\n",
        "from keras import layers\n",
        "from keras.models import Sequential\n",
        "from keras.layers import Conv2D, MaxPooling2D\n",
        "from keras.layers import Activation, Dropout, Flatten, Dense\n",
        "\n",
        "dropout = 0.1\n",
        "\n",
        "model_resnet = Sequential()\n",
        "model_resnet.add(Conv2D(64, (3, 3),input_shape=(224, 224,3)))\n",
        "model_resnet.add(Activation('relu'))\n",
        "model_resnet.add(MaxPooling2D(pool_size=(2, 2)))\n",
        "model_resnet.add(Dropout(dropout))\n",
        "\n",
        "model_resnet.add(Conv2D(128, (3, 3)))\n",
        "model_resnet.add(Activation('relu'))\n",
        "model_resnet.add(MaxPooling2D(pool_size=(2, 2)))\n",
        "model_resnet.add(Dropout(dropout))\n",
        "\n",
        "model_resnet.add(Conv2D(256, (3, 3)))\n",
        "model_resnet.add(Activation('relu'))\n",
        "model_resnet.add(MaxPooling2D(pool_size=(2, 2)))\n",
        "model_resnet.add(Dropout(dropout))\n",
        "\n",
        "\n",
        "model_resnet.add(Flatten())  \n",
        "model_resnet.add(Dense(512))\n",
        "model_resnet.add(Activation('relu'))\n",
        "model_resnet.add(Dropout(dropout))\n",
        "model_resnet.add(Dense(3))\n",
        "model_resnet.add(Activation('softmax'))\n"
      ],
      "execution_count": null,
      "outputs": []
    },
    {
      "cell_type": "code",
      "metadata": {
        "id": "b_WEWmHEMK9E"
      },
      "source": [
        "optimizer1 = 'adam'\n",
        "model_resnet.compile(optimizer=optimizer1,\n",
        "              loss='categorical_crossentropy',\n",
        "              metrics=['accuracy'])"
      ],
      "execution_count": null,
      "outputs": []
    },
    {
      "cell_type": "code",
      "metadata": {
        "id": "S2uonrmGGoUJ"
      },
      "source": [
        "resnet_history = model_resnet.fit(train_generator, validation_data = validation_generator, epochs = 16 , shuffle = True, verbose = 1 ) "
      ],
      "execution_count": null,
      "outputs": []
    },
    {
      "cell_type": "code",
      "metadata": {
        "id": "hcuL7J-qMS9T"
      },
      "source": [
        "base_model.summary()"
      ],
      "execution_count": null,
      "outputs": []
    },
    {
      "cell_type": "code",
      "metadata": {
        "id": "ZHx5AHCLJ7dE"
      },
      "source": [
        "data_evaluate = model_resnet.evaluate(test_generator)"
      ],
      "execution_count": null,
      "outputs": []
    },
    {
      "cell_type": "code",
      "metadata": {
        "id": "wdjnnKY0MXRs"
      },
      "source": [
        "pd.DataFrame(resnet_history.history).plot()\n",
        "import matplotlib.pyplot as plt\n",
        "plt.figure(figsize=(20,10))\n",
        "plt.subplot(1, 2, 1)\n",
        "plt.suptitle('Optimizer : adam', fontsize=10)\n",
        "plt.ylabel('Loss', fontsize=16)\n",
        "plt.plot(resnet_history.history['loss'], label='Training Loss')\n",
        "plt.plot(resnet_history.history['val_loss'], label='Validation Loss')\n",
        "plt.legend(loc='upper right')\n",
        "\n",
        "plt.subplot(1, 2, 2)\n",
        "plt.ylabel('Accuracy', fontsize=16)\n",
        "plt.plot(resnet_history.history['accuracy'], label='Training Accuracy')\n",
        "plt.plot(resnet_history.history['val_accuracy'], label='Validation Accuracy')\n",
        "plt.legend(loc='lower right')\n",
        "plt.show()"
      ],
      "execution_count": null,
      "outputs": []
    },
    {
      "cell_type": "code",
      "metadata": {
        "id": "17iQH8eR1KNp"
      },
      "source": [
        "# # show the confusion matrix of our predictions\n",
        "\n",
        "def plot_confusion_matrix(cm, classes, title='Confusion matrix', cmap=plt.cm.Blues):\n",
        "    cm = cm.astype('float') / cm.sum(axis=1)[:, np.newaxis]\n",
        "    plt.figure(figsize=(10,10))\n",
        "    plt.imshow(cm, interpolation='nearest', cmap=cmap)\n",
        "    plt.title(title)\n",
        "    plt.colorbar()\n",
        "    tick_marks = np.arange(len(classes))\n",
        "    plt.xticks(tick_marks, classes, rotation=90)\n",
        "    plt.yticks(tick_marks, classes)\n",
        "\n",
        "    fmt = '.2f'\n",
        "    thresh = cm.max() / 2.\n",
        "    for i, j in itertools.product(range(cm.shape[0]), range(cm.shape[1])):\n",
        "        plt.text(j, i, format(cm[i, j], fmt),\n",
        "                 horizontalalignment=\"center\",\n",
        "                 color=\"white\" if cm[i, j] > thresh else \"black\")\n",
        "\n",
        "    plt.ylabel('True label')\n",
        "    plt.xlabel('Predicted label')\n",
        "    plt.tight_layout()\n",
        "    \n",
        "# compute confusion matrix\n",
        "cnf_matrix = confusion_matrix(y_true, y_pred)\n",
        "np.set_printoptions(precision=2)\n",
        "\n",
        "# plot normalized confusion matrix\n",
        "plt.figure()\n",
        "plot_confusion_matrix(cnf_matrix, classes=class_names, title='Normalized confusion matrix')\n",
        "plt.show()"
      ],
      "execution_count": null,
      "outputs": []
    },
    {
      "cell_type": "code",
      "metadata": {
        "id": "edJGnhl_1waN"
      },
      "source": [
        "#Checking the calss indices: {'BAC_PNEUMONIA': 0, 'NORMAL': 1, 'VIR_PNEUMONIA': 2}\n",
        "proba_predictions= model_resnet.predict(test_generator)\n",
        "# print(proba_predictions)\n",
        "dict_classes= train_generator.class_indices\n",
        "dict_classes"
      ],
      "execution_count": null,
      "outputs": []
    },
    {
      "cell_type": "code",
      "metadata": {
        "id": "8JdEy0hP1w95"
      },
      "source": [
        "y_true= test_generator.classes\n",
        "# y_predictions= (proba_predictions >0.6).astype('int32')\n",
        "print(classification_report(y_true,np.argmax(proba_predictions, axis=1) ))"
      ],
      "execution_count": null,
      "outputs": []
    }
  ]
}